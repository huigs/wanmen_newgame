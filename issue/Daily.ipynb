{
 "cells": [
  {
   "cell_type": "markdown",
   "metadata": {},
   "source": [
    "# 2020/01/15\n",
    "\n",
    "## Git \n",
    "\n",
    "### 图片显示不全\n",
    "* F12打开控制台\n",
    "* 主要思路就是使用本地hosts文件对网站进行域名解析，github的CDN域名被污染\n",
    "* 找到URL：在挂掉的图片上右键-检查元素，定位到该图片的标签，那么你得到了它的URL，叫做src属性\n",
    "* 在右面把它的网址复制粗来：\n",
    "* 得到上述网址以后打开IPAddress.com这个网站，在搜索框输入它的域名，就是https://到com那一部分，俗称二级域名：\n",
    "\n",
    "avatars2.githubusercontent.com\n",
    "\n",
    "* 修改hosts\n",
    "具体咋映射呢？修改hosts文件！！！本人使用的是windows系统，所以使用Sublime Text打开：C:\\Windows\\System32\\drivers\\etc\\hosts\n",
    "\n",
    ">#GitHub Start  \n",
    "192.30.253.112    github.com  \n",
    "192.30.253.119    gist.github.com  \n",
    "151.101.184.133    assets-cdn.github.com  \n",
    "151.101.184.133    raw.githubusercontent.com  \n",
    "151.101.184.133    gist.githubusercontent.com  \n",
    "151.101.184.133    cloud.githubusercontent.com  \n",
    "151.101.184.133    camo.githubusercontent.com  \n",
    "151.101.184.133    avatars0.githubusercontent.com  \n",
    "151.101.184.133    avatars1.githubusercontent.com  \n",
    "151.101.184.133    avatars2.githubusercontent.com  \n",
    "151.101.184.133    avatars3.githubusercontent.com  \n",
    "151.101.184.133    avatars4.githubusercontent.com  \n",
    "151.101.184.133    avatars5.githubusercontent.com  \n",
    "151.101.184.133    avatars6.githubusercontent.com  \n",
    "151.101.184.133    avatars7.githubusercontent.com  \n",
    "151.101.184.133    avatars8.githubusercontent.com  \n",
    "#GitHub End\n",
    "\n",
    "### 设置代理\n",
    "* 0x02 取消代理  \n",
    "  git config --global --unset http.proxy\n",
    "\n",
    "## 数据集下载网站\n",
    "\n",
    "## ubuntu 查看系统负载\n",
    "\n",
    "## python 生成密码字典\n",
    "\n",
    "## 解决pip安装时速度慢的问题\n",
    "* 国内源：\n",
    "\n",
    "> 新版ubuntu要求使用https源，要注意。\n",
    "> 清华：https://pypi.tuna.tsinghua.edu.cn/simple  \n",
    "阿里云：http://mirrors.aliyun.com/pypi/simple/  \n",
    "中国科技大学 https://pypi.mirrors.ustc.edu.cn/simple/  \n",
    "华中理工大学：http://pypi.hustunique.com/  \n",
    "山东理工大学：http://pypi.sdutlinux.org/  \n",
    "豆瓣：http://pypi.douban.com/simple/  \n",
    "\n",
    "* 临时使用：\n",
    "> 可以在使用pip的时候加参数-i https://pypi.tuna.tsinghua.edu.cn/simple\n",
    "例如：pip install -i https://pypi.tuna.tsinghua.edu.cn/simple pyspider，这样就会从清华这边的镜像去安装pyspider库。\n",
    "\n",
    "* 永久修改，一劳永逸：\n",
    "> Linux下，修改 ~/.pip/pip.conf (没有就创建一个文件夹及文件。文件夹要加“.”，表示是隐藏文件夹)\n",
    "\n",
    "> 内容如下：\n",
    "> [global]\n",
    "index-url = https://pypi.tuna.tsinghua.edu.cn/simple  \n",
    "[install]\n",
    "trusted-host=mirrors.aliyun.com  \n",
    "windows下，直接在user目录中创建一个pip目录，如：C:\\Users\\xx\\pip，新建文件> > pip.ini。内容同上。\n",
    "\n",
    "## neofetch – 显示Linux, MacOS, Unix系统信息的bash脚本\n"
   ]
  },
  {
   "cell_type": "markdown",
   "metadata": {},
   "source": [
    "# 2020/01/16\n",
    "## markdown 换行\n",
    "* 结尾双空格"
   ]
  },
  {
   "cell_type": "code",
   "execution_count": null,
   "metadata": {},
   "outputs": [],
   "source": []
  }
 ],
 "metadata": {
  "kernelspec": {
   "display_name": "Python 3",
   "language": "python",
   "name": "python3"
  },
  "language_info": {
   "codemirror_mode": {
    "name": "ipython",
    "version": 3
   },
   "file_extension": ".py",
   "mimetype": "text/x-python",
   "name": "python",
   "nbconvert_exporter": "python",
   "pygments_lexer": "ipython3",
   "version": "3.7.3"
  }
 },
 "nbformat": 4,
 "nbformat_minor": 2
}
