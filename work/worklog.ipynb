{
 "cells": [
  {
   "cell_type": "markdown",
   "metadata": {},
   "source": [
    "# kconfig\n"
   ]
  },
  {
   "cell_type": "markdown",
   "metadata": {},
   "source": [
    "## 孙伟\n",
    "### 本周进展：  \n",
    "### 6760  \n",
    "* 1233213 / [UIS6760][6700][Module3][AB芯片] 第一次拨号连接失败，出现错误651——完成\n",
    "* 1243267 / [UIS6760][HUAWEI_IOT][NB230]【AT】外置拨号成功后手动断开拨号，再次连接，拨号失败——未复现，needinfo\n",
    "### 8910\n",
    "* 1244489 / [UIS8910DM][FIBCOM_IOT][L610-CN]执行pppSessionClose(ppp, 0)死机——已向客户提供修改方案\n",
    "* 1244068 / This bug for files communication——协助分析客户问题\n",
    "* 1246558 / [UIS8910DM][FIBCOM_IOT][L610-CN]外置PPP短短测试，电信4G，联通4G测试出现dump问题——已向客户提供修改方案"
   ]
  },
  {
   "cell_type": "code",
   "execution_count": null,
   "metadata": {},
   "outputs": [],
   "source": []
  },
  {
   "cell_type": "code",
   "execution_count": null,
   "metadata": {},
   "outputs": [],
   "source": []
  }
 ],
 "metadata": {
  "kernelspec": {
   "display_name": "Python 3",
   "language": "python",
   "name": "python3"
  },
  "language_info": {
   "codemirror_mode": {
    "name": "ipython",
    "version": 3
   },
   "file_extension": ".py",
   "mimetype": "text/x-python",
   "name": "python",
   "nbconvert_exporter": "python",
   "pygments_lexer": "ipython3",
   "version": "3.7.3"
  }
 },
 "nbformat": 4,
 "nbformat_minor": 2
}
