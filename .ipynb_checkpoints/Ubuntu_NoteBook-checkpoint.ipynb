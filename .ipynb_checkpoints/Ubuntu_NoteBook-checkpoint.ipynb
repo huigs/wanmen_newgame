{
 "cells": [
  {
   "cell_type": "markdown",
   "metadata": {},
   "source": [
    "# Ubuntu 19.10\n",
    "## 添加源\n",
    "### 添加阿里源\n",
    "\n",
    "deb http://mirrors.aliyun.com/ubuntu/ bionic main restricted universe multiverse\n",
    "deb http://mirrors.aliyun.com/ubuntu/ bionic-security main restricted universe multiverse\n",
    "deb http://mirrors.aliyun.com/ubuntu/ bionic-updates main restricted universe multiverse\n",
    "deb http://mirrors.aliyun.com/ubuntu/ bionic-proposed main restricted universe multiverse\n",
    "deb http://mirrors.aliyun.com/ubuntu/ bionic-backports main restricted universe multiverse\n",
    "deb-src http://mirrors.aliyun.com/ubuntu/ bionic main restricted universe multiverse\n",
    "deb-src http://mirrors.aliyun.com/ubuntu/ bionic-security main restricted universe multiverse\n",
    "deb-src http://mirrors.aliyun.com/ubuntu/ bionic-updates main restricted universe multiverse\n",
    "deb-src http://mirrors.aliyun.com/ubuntu/ bionic-proposed main restricted universe multiverse\n",
    "deb-src http://mirrors.aliyun.com/ubuntu/ bionic-backports main restricted universe multiverse\n",
    "\n",
    "* 更新/etc/apt/source.list\n",
    "\n",
    "## 字体安装\n",
    "* /usr/share/fonts/文件夹/*.ttf\n",
    "* sudo mkfontscale\n",
    "* sudo mkfontdir\n",
    "* sudo fc-cache -fv\n",
    "\n",
    "## gnome-tweak-tool\n",
    "* sudo apt install gnome-tweak-tool\n",
    "\n",
    "## Anaconda安装\n",
    "* bash Anaconda***.sh\n",
    "* conda update anaconda\n",
    "* conda update spyder\n",
    "* pip install jupyter notebook\n",
    "\n",
    "## zsh\n",
    "* apt install zsh\n",
    "* TODO： oh-my-zsh主题\n",
    "\n",
    "## oh-my-zsh\n",
    "* sudo apt install curl\n",
    "* sh -c \"$(curl -fsSL https://raw.githubusercontent.com/robbyrussell/oh-my-zsh/master/tools/install.sh)\"\n",
    "* git clone git://github.com/zsh-users/zsh-autosuggestions $ZSH_CUSTOM/plugins/zsh-autosuggestions\n",
    "* ~/.zshrc 添加环境变量\n",
    "* 找到plugins=(git)这一行，然后再添加autosuggestions，最后为：plugins=(git zsh-autosuggestions)\n",
    "* source ./zshrc\n",
    "\n",
    "## i3安装\n",
    "* apt install i3\n",
    "* ~/.config/i3/config\n",
    "## "
   ]
  },
  {
   "cell_type": "markdown",
   "metadata": {},
   "source": [
    "# Git\n",
    "## Git保存用户名和密码\n",
    "\n",
    "* 1、进入Git 配置文件。\n",
    "\n",
    "~$ vim ~/.gitconfig   \n",
    "\n",
    "    1\n",
    "\n",
    "* 2、修改配置文件，添加下面这一行。\n",
    "\n",
    "[credential]  \n",
    "    helper = store  \n",
    "\n",
    "# Anaconda\n",
    "\n",
    "## 修改变量 /etc/profile\n"
   ]
  },
  {
   "cell_type": "markdown",
   "metadata": {},
   "source": [
    "# Deepin Linux\n",
    "## 添加阿里源\n",
    "* deb [by-hash=force] https://mirrors.aliyun.com/deepin/ panda main contrib non-free"
   ]
  },
  {
   "cell_type": "markdown",
   "metadata": {},
   "source": [
    "# kali linux\n",
    "\n",
    "## sourcelist\n",
    "\n",
    "## Chinese\n",
    "确定locales已经安装，用”apt-get install locales”命令；之后可用”locale -a”查看当前系统支持的字符集。\n",
    "\n",
    "1. 在命令行输入”dpkg-reconfigure locales”。进入图形化界面之后，（空格是选择，Tab是切换，*是选中），选中en_US.UTF-8和zh_CN.UTF-8，确定后，将en_US.UTF-8选为默认。\n",
    "2. 安装中文字体，”apt-get install xfonts-intl-chinese “和” apt-get install ttf-wqy-microhei”，这时发现网页不乱码，系统也不乱码。\n",
    "3. 重启 。\n",
    "\n",
    "## nfs\n",
    "* mount -t nfs 192.168.199.211:/volune3/ST_4T/ /home/netshare/share_file"
   ]
  },
  {
   "cell_type": "code",
   "execution_count": null,
   "metadata": {},
   "outputs": [],
   "source": []
  }
 ],
 "metadata": {
  "kernelspec": {
   "display_name": "Python 3",
   "language": "python",
   "name": "python3"
  },
  "language_info": {
   "codemirror_mode": {
    "name": "ipython",
    "version": 3
   },
   "file_extension": ".py",
   "mimetype": "text/x-python",
   "name": "python",
   "nbconvert_exporter": "python",
   "pygments_lexer": "ipython3",
   "version": "3.7.4"
  }
 },
 "nbformat": 4,
 "nbformat_minor": 2
}
