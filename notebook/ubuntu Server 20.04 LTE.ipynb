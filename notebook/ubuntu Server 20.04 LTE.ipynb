{
 "cells": [
  {
   "cell_type": "markdown",
   "metadata": {},
   "source": [
    "# ubuntu Server 20.04 LTE\n",
    "## Samba\n",
    "* sudo apt-get update\n",
    "* sudo apt-get install samba samba-common\n",
    "* sudo mkdir /home/share\n",
    "* sudo chmod 777 /home/share\n",
    "* sudo gedit /etc/samba/smb.conf\n",
    "* 配置\n",
    "```\n",
    "   [myshare]\n",
    "      comment = my share directory\n",
    "      path = /home/wsun/samba_share\n",
    "      browseable = yes\n",
    "      writeable = yes\n",
    "```\n",
    "\n",
    "* 打开\"终端窗口\"，输入\"sudo useradd smbuser\"-->回车-->用户创建成功。\n",
    "* 输入\"sudo smbpasswd -a smbuser\"-->回车-->输入两次密码-->回车-->密码设置成功，这个用户属于smb组。\n",
    "* 输入\"sudo service smbd restart\"重启samba服务-->回车-->服务重启成功。\n",
    "* 在\"运行\"窗口中输入\"\\\\192.168.1.4\"-->回车-->双击打开myshare-->回车-->输入用户名和密码-->回车-->访问成功。\n",
    "* $sudo smbpasswd -a wsun 添加用户，添加系统用户，方便权限统一$\n",
    "\n",
    "## 安装anaconda3\n",
    "* bash Anaconda3-2020.02-Linux-x86_64.sh\n",
    "* source ~/.bashrc\n",
    "\n",
    "## jupyter notebook\n",
    "* apt-get install python-pip3\n",
    "* pip3 安装满可以在使用pip的时候加参数-i https://pypi.tuna.tsinghua.edu.cn/simple\n",
    "* jupyter notebook --generate-config\n",
    "* jupyter_notebook_config.py 修改访问的ip和端口\n",
    "\n",
    "### 安装c环境\n",
    "```\n",
    "pip install jupyter-c-kernel\n",
    "install_c_kernel --help\n",
    "install_c_kernel --user\n",
    "jupyter kernelspec list\n",
    "jupyter notebook\n",
    "```\n",
    "\n",
    "## NextCloud\n",
    "* 密码 Spreadtrum7\n",
    "\n",
    "## 关机\n",
    "* sudo shutdown -h now 立刻关机\n",
    "\n",
    "## markdown\n",
    "* 引用 首尾加```\n",
    "\n",
    "## 查看负载\n",
    "* htop 美化的top\n",
    "\n",
    "## Gitee\n",
    "passwd:Spreadtrum7\n",
    "\n",
    "## Github\n",
    "passwd:Spreadtrum7"
   ]
  },
  {
   "cell_type": "markdown",
   "metadata": {},
   "source": [
    "# Git\n",
    "\n",
    "```\n",
    "    git clone时,error: RPC failed; curl 56 GnuTLS recv error (-54)\n",
    "    error: RPC failed; curl 56 GnuTLS recv error (-54): Error in the pull function.\n",
    "    fatal: The remote end hung up unexpectedly\n",
    "    fatal: early EOF\n",
    "    fatal: index-pack failed\n",
    "``` \n",
    "* 这是由于git默认缓存大小不足导致的，使用下面的命令增加缓存大小\n",
    "  ``` \n",
    "    $ git config --global http.postBuffer 2000000000\n",
    "  ```\n",
    "  \n",
    "* 修改git默认的编辑器 git config –global core.editor vim"
   ]
  },
  {
   "cell_type": "code",
   "execution_count": null,
   "metadata": {},
   "outputs": [],
   "source": []
  }
 ],
 "metadata": {
  "kernelspec": {
   "display_name": "Python 3",
   "language": "python",
   "name": "python3"
  },
  "language_info": {
   "codemirror_mode": {
    "name": "ipython",
    "version": 3
   },
   "file_extension": ".py",
   "mimetype": "text/x-python",
   "name": "python",
   "nbconvert_exporter": "python",
   "pygments_lexer": "ipython3",
   "version": "3.8.2"
  }
 },
 "nbformat": 4,
 "nbformat_minor": 4
}
